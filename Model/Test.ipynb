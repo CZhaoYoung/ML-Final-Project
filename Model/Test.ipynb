{
 "cells": [
  {
   "cell_type": "code",
   "execution_count": 5,
   "id": "2da9a357",
   "metadata": {},
   "outputs": [],
   "source": [
    "import numpy as np\n",
    "import numpy.random as npr\n",
    "from sklearn.model_selection import train_test_split\n",
    "from sklearn import metrics\n",
    "from sklearn.metrics import classification_report\n",
    "from sklearn.metrics import confusion_matrix\n",
    "import time"
   ]
  },
  {
   "cell_type": "code",
   "execution_count": 6,
   "id": "75001ac0",
   "metadata": {},
   "outputs": [],
   "source": [
    "from tensorflow.keras.utils import to_categorical\n",
    "import tensorflow as tf\n",
    "from tensorflow.keras.layers import Flatten, Dense, Dropout\n",
    "from tensorflow.keras.losses import BinaryCrossentropy\n",
    "from tensorflow.keras import regularizers\n",
    "from tensorflow.keras import layers"
   ]
  },
  {
   "cell_type": "code",
   "execution_count": 11,
   "id": "fe199a27",
   "metadata": {},
   "outputs": [],
   "source": [
    "# data augmentation\n",
    "data_augmentation = tf.keras.Sequential(\n",
    "  [\n",
    "    layers.RandomZoom(0.01),\n",
    "  ]\n",
    ")"
   ]
  },
  {
   "cell_type": "code",
   "execution_count": 14,
   "id": "01e959a8",
   "metadata": {},
   "outputs": [],
   "source": [
    "def create_model():\n",
    "    model = tf.keras.Sequential([\n",
    "        data_augmentation,\n",
    "        Flatten(input_shape=(64,64)),\n",
    "        Dense(512, activation='elu'),\n",
    "        Dropout(0.08),\n",
    "        Dense(64, activation='elu',kernel_regularizer=regularizers.l2(0.001)),\n",
    "        Dense(10)\n",
    "    ])\n",
    "\n",
    "    model.compile(optimizer=tf.keras.optimizers.Adam(),\n",
    "                  loss=tf.keras.losses.BinaryCrossentropy(from_logits=True),\n",
    "    #               loss = BinaryCrossentropy(),\n",
    "                  metrics=['accuracy'])\n",
    "    return model"
   ]
  },
  {
   "cell_type": "code",
   "execution_count": 15,
   "id": "ab825589",
   "metadata": {},
   "outputs": [],
   "source": [
    "Test_model = create_model()"
   ]
  },
  {
   "cell_type": "code",
   "execution_count": 17,
   "id": "4917f2c4",
   "metadata": {},
   "outputs": [
    {
     "data": {
      "text/plain": [
       "<tensorflow.python.training.tracking.util.CheckpointLoadStatus at 0x1c6b08d90a0>"
      ]
     },
     "execution_count": 17,
     "metadata": {},
     "output_type": "execute_result"
    }
   ],
   "source": [
    "Test_model.load_weights('./my_checkpoint')"
   ]
  },
  {
   "cell_type": "code",
   "execution_count": 22,
   "id": "27b0281f",
   "metadata": {},
   "outputs": [],
   "source": [
    "# Loading Data\n",
    "data = np.load('preprocessed64.npy')\n",
    "labels = np.load('newlabel.npy')\n",
    "labels = to_categorical(labels)"
   ]
  },
  {
   "cell_type": "code",
   "execution_count": 23,
   "id": "674bdb29",
   "metadata": {},
   "outputs": [],
   "source": [
    "# Split data\n",
    "train_images , test_images , train_labels, test_labels = train_test_split(data, labels, test_size = 0.1, stratify = labels)\n"
   ]
  },
  {
   "cell_type": "code",
   "execution_count": 24,
   "id": "4f70250f",
   "metadata": {},
   "outputs": [
    {
     "name": "stdout",
     "output_type": "stream",
     "text": [
      "21/21 - 0s - loss: 0.0797 - accuracy: 0.8985 - 325ms/epoch - 15ms/step\n",
      "Restored model, accuracy: 89.85%\n"
     ]
    }
   ],
   "source": [
    "loss, acc = Test_model.evaluate(test_images, test_labels, verbose=2)\n",
    "print(\"Restored model, accuracy: {:5.2f}%\".format(100 * acc))"
   ]
  },
  {
   "cell_type": "code",
   "execution_count": 26,
   "id": "ac608035",
   "metadata": {},
   "outputs": [],
   "source": [
    "predictions = Test_model.predict(test_images)"
   ]
  },
  {
   "cell_type": "code",
   "execution_count": 27,
   "id": "10f1df83",
   "metadata": {},
   "outputs": [],
   "source": [
    "y_pred = tf.math.argmax(predictions, axis=1)"
   ]
  },
  {
   "cell_type": "code",
   "execution_count": 28,
   "id": "e2b44c1b",
   "metadata": {},
   "outputs": [
    {
     "data": {
      "text/plain": [
       "<tf.Tensor: shape=(670,), dtype=int64, numpy=\n",
       "array([3, 6, 1, 2, 1, 6, 7, 6, 4, 9, 3, 8, 2, 9, 2, 5, 4, 7, 2, 1, 0, 5,\n",
       "       5, 2, 6, 7, 2, 3, 2, 4, 4, 4, 1, 4, 5, 2, 5, 1, 3, 6, 5, 0, 7, 3,\n",
       "       5, 2, 5, 3, 5, 9, 0, 5, 8, 8, 9, 5, 1, 8, 0, 6, 0, 0, 7, 8, 1, 1,\n",
       "       9, 7, 3, 1, 3, 2, 1, 4, 8, 6, 4, 7, 4, 9, 3, 0, 4, 6, 4, 1, 1, 5,\n",
       "       4, 3, 3, 9, 9, 3, 0, 9, 5, 7, 5, 6, 3, 0, 1, 1, 3, 9, 0, 6, 9, 2,\n",
       "       0, 3, 3, 5, 5, 5, 5, 7, 3, 2, 2, 1, 7, 0, 6, 7, 8, 3, 7, 6, 8, 3,\n",
       "       6, 0, 2, 7, 7, 8, 1, 2, 1, 0, 3, 6, 4, 2, 4, 2, 4, 6, 9, 7, 2, 8,\n",
       "       1, 8, 1, 8, 1, 8, 1, 4, 0, 7, 2, 3, 9, 0, 8, 7, 6, 2, 3, 7, 1, 1,\n",
       "       8, 0, 8, 3, 5, 3, 7, 9, 7, 1, 8, 5, 6, 0, 2, 0, 4, 0, 1, 3, 9, 3,\n",
       "       8, 7, 2, 5, 6, 9, 8, 1, 3, 2, 5, 7, 2, 8, 8, 0, 8, 9, 5, 7, 0, 9,\n",
       "       2, 3, 4, 6, 1, 8, 8, 7, 6, 9, 6, 6, 7, 2, 3, 3, 0, 7, 7, 5, 4, 9,\n",
       "       8, 4, 4, 2, 8, 4, 1, 6, 1, 4, 9, 7, 5, 1, 0, 0, 9, 6, 9, 3, 0, 3,\n",
       "       9, 1, 8, 8, 2, 3, 1, 1, 6, 4, 8, 0, 9, 3, 1, 6, 7, 8, 0, 3, 7, 6,\n",
       "       0, 6, 6, 4, 0, 2, 0, 4, 9, 7, 2, 4, 2, 5, 7, 1, 3, 2, 4, 5, 8, 6,\n",
       "       5, 6, 6, 3, 2, 8, 2, 7, 3, 9, 7, 6, 7, 5, 7, 8, 8, 4, 9, 1, 7, 5,\n",
       "       4, 8, 4, 6, 7, 7, 5, 8, 0, 8, 8, 4, 5, 2, 5, 5, 6, 5, 0, 5, 2, 5,\n",
       "       9, 3, 7, 2, 1, 8, 7, 2, 7, 9, 2, 4, 9, 9, 5, 3, 7, 8, 0, 6, 9, 0,\n",
       "       1, 2, 9, 7, 6, 4, 4, 2, 3, 9, 5, 9, 8, 4, 4, 0, 7, 6, 5, 0, 7, 8,\n",
       "       3, 9, 7, 9, 7, 5, 7, 7, 8, 3, 9, 2, 4, 2, 0, 3, 3, 3, 7, 4, 7, 8,\n",
       "       2, 7, 0, 5, 7, 7, 4, 7, 5, 6, 7, 0, 3, 6, 9, 7, 8, 8, 2, 2, 9, 4,\n",
       "       6, 0, 7, 9, 3, 7, 8, 0, 7, 3, 0, 9, 1, 9, 8, 8, 1, 8, 2, 7, 9, 1,\n",
       "       6, 3, 2, 5, 3, 1, 5, 1, 9, 5, 7, 4, 1, 9, 1, 5, 6, 0, 2, 1, 7, 7,\n",
       "       5, 2, 4, 9, 6, 5, 6, 8, 2, 0, 6, 1, 7, 9, 7, 8, 7, 0, 7, 2, 3, 0,\n",
       "       7, 5, 8, 7, 8, 7, 3, 5, 1, 4, 0, 6, 1, 1, 0, 9, 3, 2, 1, 6, 0, 9,\n",
       "       3, 7, 2, 4, 5, 7, 4, 4, 6, 4, 7, 8, 9, 5, 6, 3, 0, 0, 3, 7, 4, 9,\n",
       "       4, 5, 6, 7, 9, 7, 5, 0, 7, 2, 9, 1, 3, 7, 7, 1, 6, 3, 2, 7, 0, 7,\n",
       "       1, 7, 8, 7, 1, 2, 4, 2, 4, 7, 2, 9, 8, 4, 9, 6, 2, 6, 7, 9, 4, 3,\n",
       "       9, 8, 7, 6, 3, 9, 6, 2, 2, 2, 0, 5, 6, 8, 8, 4, 0, 8, 2, 7, 2, 0,\n",
       "       7, 7, 5, 8, 2, 9, 8, 2, 0, 3, 2, 2, 5, 8, 0, 2, 7, 4, 6, 7, 6, 4,\n",
       "       8, 1, 6, 9, 2, 2, 7, 9, 6, 0, 0, 0, 3, 6, 1, 8, 8, 7, 6, 4, 8, 2,\n",
       "       3, 2, 0, 9, 7, 7, 7, 8, 9, 0], dtype=int64)>"
      ]
     },
     "execution_count": 28,
     "metadata": {},
     "output_type": "execute_result"
    }
   ],
   "source": [
    "y_pred"
   ]
  },
  {
   "cell_type": "code",
   "execution_count": null,
   "id": "b139d6d5",
   "metadata": {},
   "outputs": [],
   "source": []
  }
 ],
 "metadata": {
  "kernelspec": {
   "display_name": "Python 3 (ipykernel)",
   "language": "python",
   "name": "python3"
  },
  "language_info": {
   "codemirror_mode": {
    "name": "ipython",
    "version": 3
   },
   "file_extension": ".py",
   "mimetype": "text/x-python",
   "name": "python",
   "nbconvert_exporter": "python",
   "pygments_lexer": "ipython3",
   "version": "3.9.12"
  }
 },
 "nbformat": 4,
 "nbformat_minor": 5
}
