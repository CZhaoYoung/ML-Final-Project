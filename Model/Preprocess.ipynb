{
 "cells": [
  {
   "cell_type": "markdown",
   "id": "4b1f9e52",
   "metadata": {},
   "source": [
    "#### Import Pkgs"
   ]
  },
  {
   "cell_type": "code",
   "execution_count": 1,
   "id": "b35b08b8",
   "metadata": {},
   "outputs": [],
   "source": [
    "import numpy as np\n",
    "import numpy.random as npr\n",
    "import matplotlib.pyplot as plt\n",
    "%matplotlib inline\n",
    "plt.style.use('bmh')"
   ]
  },
  {
   "cell_type": "code",
   "execution_count": 2,
   "id": "83de136e",
   "metadata": {},
   "outputs": [],
   "source": [
    "# import opencv\n",
    "import cv2\n",
    "from PIL import Image"
   ]
  },
  {
   "cell_type": "markdown",
   "id": "699b248d",
   "metadata": {},
   "source": [
    "#### Morphology Transformations"
   ]
  },
  {
   "cell_type": "code",
   "execution_count": 446,
   "id": "6cca6eb3",
   "metadata": {},
   "outputs": [
    {
     "name": "stdout",
     "output_type": "stream",
     "text": [
      "(90000, 6720) (6720,)\n"
     ]
    }
   ],
   "source": [
    "# Loading Data\n",
    "SrcData = np.load('data_train.npy')\n",
    "labels = np.load('newlabel.npy')\n",
    "print(SrcData.shape, labels.shape)"
   ]
  },
  {
   "cell_type": "code",
   "execution_count": 4,
   "id": "be67d52c",
   "metadata": {},
   "outputs": [],
   "source": [
    "# invert the color of the grayscale image\n",
    "inv_data = cv2.bitwise_not(SrcData)\n",
    "data = inv_data"
   ]
  },
  {
   "cell_type": "code",
   "execution_count": 5,
   "id": "026f0325",
   "metadata": {},
   "outputs": [],
   "source": [
    "# Dilation \n",
    "kernel = np.ones((5, 1),np.uint8)\n",
    "Dilation_Data = cv2.dilate(inv_data,kernel,iterations = 1) "
   ]
  },
  {
   "cell_type": "code",
   "execution_count": 6,
   "id": "94fb1afc",
   "metadata": {},
   "outputs": [],
   "source": [
    "# Opening \n",
    "kernel = np.ones((5,1),np.uint8)\n",
    "Opening_Data = cv2.morphologyEx(Dilation_Data, cv2.MORPH_OPEN, kernel)"
   ]
  },
  {
   "cell_type": "code",
   "execution_count": 7,
   "id": "d16eb2f6",
   "metadata": {},
   "outputs": [],
   "source": [
    "# Closing\n",
    "kernel = np.ones((5,1),np.uint8)\n",
    "Closing_Data = cv2.morphologyEx(Opening_Data, cv2.MORPH_CLOSE, kernel)"
   ]
  },
  {
   "cell_type": "markdown",
   "id": "b2dc935c",
   "metadata": {},
   "source": [
    "#### Resize\n",
    "Resize the image size from 300X300 to 100X100 and then save as **preprocessed.npy** file"
   ]
  },
  {
   "cell_type": "code",
   "execution_count": 15,
   "id": "f9f376f3",
   "metadata": {},
   "outputs": [],
   "source": [
    "data = Closing_Data"
   ]
  },
  {
   "cell_type": "code",
   "execution_count": 16,
   "id": "d4db1262",
   "metadata": {},
   "outputs": [],
   "source": [
    "# resize from 300*300 to 64*64\n",
    "for i in range(0, datalen):\n",
    "    tmp = data[:,i].reshape(300,300)\n",
    "    img = Image.fromarray(tmp)\n",
    "    imgarray = np.array(img.resize(size = (64, 64)))\n",
    "    col_y = imgarray\n",
    "    if i==0:\n",
    "        tmparray = col_y\n",
    "    else:\n",
    "        tmparray = np.dstack([tmparray, col_y])\n",
    "\n",
    "preprocessed64 = np.zeros((datalen, 64, 64))\n",
    "for i in range(0,datalen):\n",
    "    # normalization\n",
    "    preprocessed64[i] = tmparray[:,:,i]/255\n",
    "    "
   ]
  },
  {
   "cell_type": "markdown",
   "id": "778ff1bd",
   "metadata": {},
   "source": [
    "#### Remove"
   ]
  },
  {
   "cell_type": "code",
   "execution_count": 450,
   "id": "fcce4770",
   "metadata": {},
   "outputs": [],
   "source": [
    "# remove some data\n",
    "error = [1721,6176, 451, 4922, 1128, 5493, 6718, 4372, 1011, 4639, 4986, 2534, 2792, 2639, 1809, 920, 1894, 5597, \n",
    "5312, 2184, 5910, 3402, 4050]"
   ]
  },
  {
   "cell_type": "code",
   "execution_count": 451,
   "id": "3e3abecc",
   "metadata": {},
   "outputs": [],
   "source": [
    "labels = np.delete(labels, error)"
   ]
  },
  {
   "cell_type": "code",
   "execution_count": 455,
   "id": "bea9690b",
   "metadata": {},
   "outputs": [],
   "source": [
    "tmp_data = preprocessed64"
   ]
  },
  {
   "cell_type": "code",
   "execution_count": 464,
   "id": "a3ec43c5",
   "metadata": {},
   "outputs": [],
   "source": [
    "tmp_data = np.delete(tmp_data, error, axis = 0)"
   ]
  },
  {
   "cell_type": "code",
   "execution_count": 477,
   "id": "7cfbcd7d",
   "metadata": {},
   "outputs": [],
   "source": [
    "preprocessed64 = tmp_data"
   ]
  },
  {
   "cell_type": "markdown",
   "id": "3e554390",
   "metadata": {},
   "source": [
    "#### Save as new npy file"
   ]
  },
  {
   "cell_type": "code",
   "execution_count": 479,
   "id": "22771011",
   "metadata": {},
   "outputs": [],
   "source": [
    "np.save(\"preprocessed64\",preprocessed64)"
   ]
  },
  {
   "cell_type": "code",
   "execution_count": null,
   "id": "53dffda5",
   "metadata": {},
   "outputs": [],
   "source": [
    "np.save(\"newlabel\",labels)"
   ]
  }
 ],
 "metadata": {
  "kernelspec": {
   "display_name": "Python 3 (ipykernel)",
   "language": "python",
   "name": "python3"
  },
  "language_info": {
   "codemirror_mode": {
    "name": "ipython",
    "version": 3
   },
   "file_extension": ".py",
   "mimetype": "text/x-python",
   "name": "python",
   "nbconvert_exporter": "python",
   "pygments_lexer": "ipython3",
   "version": "3.9.12"
  }
 },
 "nbformat": 4,
 "nbformat_minor": 5
}
